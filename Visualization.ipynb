{
 "cells": [
  {
   "cell_type": "markdown",
   "id": "9ca8c618",
   "metadata": {},
   "source": [
    "# Using vaex for profiling a dataset"
   ]
  },
  {
   "cell_type": "markdown",
   "id": "5c5c3f72",
   "metadata": {},
   "source": [
    "### Importing necessary libraries"
   ]
  },
  {
   "cell_type": "code",
   "execution_count": 1,
   "id": "f01e1a3e",
   "metadata": {},
   "outputs": [],
   "source": [
    "import vaex as vx\n",
    "import numpy as np\n",
    "import pandas as pd"
   ]
  },
  {
   "cell_type": "code",
   "execution_count": 2,
   "id": "55a8a265",
   "metadata": {},
   "outputs": [],
   "source": [
    "neutrients_vx = vx.from_csv(\"file1.csv\", convert=True, chunk_size=5_000)"
   ]
  },
  {
   "cell_type": "markdown",
   "id": "4969683c",
   "metadata": {},
   "source": [
    "- In vaex, from_csv() function reads the csv file and converts into a HDF5 file based on the given chunk_size.\n",
    "- Here, chunk_size value makes difference in memory of a file"
   ]
  },
  {
   "cell_type": "code",
   "execution_count": 3,
   "id": "3bd30f18",
   "metadata": {},
   "outputs": [
    {
     "data": {
      "text/html": [
       "<table>\n",
       "<thead>\n",
       "<tr><th>#                              </th><th>Category          </th><th>Item                                             </th><th>Serving Size  </th><th>Calories  </th><th>Calories from Fat  </th><th>Total Fat  </th><th>Total Fat (% Daily Value)  </th><th>Saturated Fat  </th><th>Saturated Fat (% Daily Value)  </th><th>Trans Fat  </th><th>Cholesterol  </th><th>Cholesterol (% Daily Value)  </th><th>Sodium  </th><th>Sodium (% Daily Value)  </th><th>Carbohydrates  </th><th>Carbohydrates (% Daily Value)  </th><th>Dietary Fiber  </th><th>Dietary Fiber (% Daily Value)  </th><th>Sugars  </th><th>Protein  </th><th>Vitamin A (% Daily Value)  </th><th>Vitamin C (% Daily Value)  </th><th>Calcium (% Daily Value)  </th><th>Iron (% Daily Value)  </th></tr>\n",
       "</thead>\n",
       "<tbody>\n",
       "<tr><td><i style='opacity: 0.6'>0</i>  </td><td>Breakfast         </td><td>Egg McMuffin                                     </td><td>4.8           </td><td>300.0     </td><td>120.0              </td><td>13.0       </td><td>20.0                       </td><td>5.0            </td><td>25.0                           </td><td>0.0        </td><td>30.0         </td><td>10.0                         </td><td>750.0   </td><td>31.0                    </td><td>31.0           </td><td>10.0                           </td><td>4              </td><td>17.0                           </td><td>3.0     </td><td>17.0     </td><td>10.0                       </td><td>0.0                        </td><td>25.0                     </td><td>15.0                  </td></tr>\n",
       "<tr><td><i style='opacity: 0.6'>1</i>  </td><td>Breakfast         </td><td>Egg White Delight                                </td><td>4.8           </td><td>250.0     </td><td>70.0               </td><td>8.0        </td><td>12.0                       </td><td>3.0            </td><td>15.0                           </td><td>0.0        </td><td>25.0         </td><td>8.0                          </td><td>770.0   </td><td>32.0                    </td><td>30.0           </td><td>10.0                           </td><td>4              </td><td>17.0                           </td><td>3.0     </td><td>18.0     </td><td>6.0                        </td><td>0.0                        </td><td>25.0                     </td><td>8.0                   </td></tr>\n",
       "<tr><td><i style='opacity: 0.6'>2</i>  </td><td>Breakfast         </td><td>Sausage McMuffin                                 </td><td>3.9           </td><td>370.0     </td><td>200.0              </td><td>23.0       </td><td>35.0                       </td><td>8.0            </td><td>42.0                           </td><td>0.0        </td><td>45.0         </td><td>15.0                         </td><td>780.0   </td><td>33.0                    </td><td>29.0           </td><td>10.0                           </td><td>4              </td><td>17.0                           </td><td>2.0     </td><td>14.0     </td><td>8.0                        </td><td>0.0                        </td><td>25.0                     </td><td>10.0                  </td></tr>\n",
       "<tr><td><i style='opacity: 0.6'>3</i>  </td><td>Breakfast         </td><td>Sausage McMuffin with Egg                        </td><td>5.7           </td><td>450.0     </td><td>250.0              </td><td>28.0       </td><td>43.0                       </td><td>10.0           </td><td>52.0                           </td><td>0.0        </td><td>30.0         </td><td>10.0                         </td><td>860.0   </td><td>36.0                    </td><td>30.0           </td><td>10.0                           </td><td>4              </td><td>17.0                           </td><td>2.0     </td><td>21.0     </td><td>15.0                       </td><td>0.0                        </td><td>30.0                     </td><td>15.0                  </td></tr>\n",
       "<tr><td><i style='opacity: 0.6'>4</i>  </td><td>Breakfast         </td><td>Sausage McMuffin with Egg Whites                 </td><td>5.7           </td><td>400.0     </td><td>210.0              </td><td>23.0       </td><td>35.0                       </td><td>8.0            </td><td>42.0                           </td><td>0.0        </td><td>50.0         </td><td>16.0                         </td><td>880.0   </td><td>37.0                    </td><td>30.0           </td><td>10.0                           </td><td>4              </td><td>17.0                           </td><td>2.0     </td><td>21.0     </td><td>6.0                        </td><td>0.0                        </td><td>25.0                     </td><td>10.0                  </td></tr>\n",
       "<tr><td>...                            </td><td>...               </td><td>...                                              </td><td>...           </td><td>...       </td><td>...                </td><td>...        </td><td>...                        </td><td>...            </td><td>...                            </td><td>...        </td><td>...          </td><td>...                          </td><td>...     </td><td>...                     </td><td>...            </td><td>...                            </td><td>...            </td><td>...                            </td><td>...     </td><td>...      </td><td>...                        </td><td>...                        </td><td>...                      </td><td>...                   </td></tr>\n",
       "<tr><td><i style='opacity: 0.6'>255</i></td><td>Smoothies &amp; Shakes</td><td>McFlurry with Oreo Cookies (Small)               </td><td>10.1          </td><td>510.0     </td><td>150.0              </td><td>17.0       </td><td>26.0                       </td><td>9.0            </td><td>44.0                           </td><td>0.5        </td><td>45.0         </td><td>14.0                         </td><td>280.0   </td><td>12.0                    </td><td>80.0           </td><td>27.0                           </td><td>1              </td><td>4.0                            </td><td>64.0    </td><td>12.0     </td><td>15.0                       </td><td>0.0                        </td><td>40.0                     </td><td>8.0                   </td></tr>\n",
       "<tr><td><i style='opacity: 0.6'>256</i></td><td>Smoothies &amp; Shakes</td><td>McFlurry with Oreo Cookies (Medium)              </td><td>13.4          </td><td>690.0     </td><td>200.0              </td><td>23.0       </td><td>35.0                       </td><td>12.0           </td><td>58.0                           </td><td>1.0        </td><td>55.0         </td><td>19.0                         </td><td>380.0   </td><td>16.0                    </td><td>43.0           </td><td>35.0                           </td><td>1              </td><td>5.0                            </td><td>85.0    </td><td>15.0     </td><td>20.0                       </td><td>0.0                        </td><td>50.0                     </td><td>10.0                  </td></tr>\n",
       "<tr><td><i style='opacity: 0.6'>257</i></td><td>Smoothies &amp; Shakes</td><td>McFlurry with Oreo Cookies (Snack)               </td><td>6.7           </td><td>340.0     </td><td>100.0              </td><td>11.0       </td><td>17.0                       </td><td>6.0            </td><td>29.0                           </td><td>0.0        </td><td>30.0         </td><td>9.0                          </td><td>190.0   </td><td>8.0                     </td><td>53.0           </td><td>18.0                           </td><td>1              </td><td>2.0                            </td><td>43.0    </td><td>8.0      </td><td>10.0                       </td><td>0.0                        </td><td>25.0                     </td><td>6.0                   </td></tr>\n",
       "<tr><td><i style='opacity: 0.6'>258</i></td><td>Smoothies &amp; Shakes</td><td>McFlurry with Reese&#x27;s Peanut Butter Cups (Medium)</td><td>14.2          </td><td>810.0     </td><td>290.0              </td><td>32.0       </td><td>50.0                       </td><td>15.0           </td><td>76.0                           </td><td>1.0        </td><td>60.0         </td><td>20.0                         </td><td>400.0   </td><td>17.0                    </td><td>43.0           </td><td>14.0                           </td><td>2              </td><td>9.0                            </td><td>103.0   </td><td>21.0     </td><td>20.0                       </td><td>0.0                        </td><td>60.0                     </td><td>6.0                   </td></tr>\n",
       "<tr><td><i style='opacity: 0.6'>259</i></td><td>Smoothies &amp; Shakes</td><td>McFlurry with Reese&#x27;s Peanut Butter Cups (Snack) </td><td>7.1           </td><td>410.0     </td><td>150.0              </td><td>16.0       </td><td>25.0                       </td><td>8.0            </td><td>38.0                           </td><td>0.0        </td><td>30.0         </td><td>10.0                         </td><td>200.0   </td><td>8.0                     </td><td>57.0           </td><td>19.0                           </td><td>1              </td><td>5.0                            </td><td>51.0    </td><td>10.0     </td><td>10.0                       </td><td>0.0                        </td><td>30.0                     </td><td>4.0                   </td></tr>\n",
       "</tbody>\n",
       "</table>"
      ],
      "text/plain": [
       "#    Category            Item                                               Serving Size    Calories    Calories from Fat    Total Fat    Total Fat (% Daily Value)    Saturated Fat    Saturated Fat (% Daily Value)    Trans Fat    Cholesterol    Cholesterol (% Daily Value)    Sodium    Sodium (% Daily Value)    Carbohydrates    Carbohydrates (% Daily Value)    Dietary Fiber    Dietary Fiber (% Daily Value)    Sugars    Protein    Vitamin A (% Daily Value)    Vitamin C (% Daily Value)    Calcium (% Daily Value)    Iron (% Daily Value)\n",
       "0    Breakfast           Egg McMuffin                                       4.8             300.0       120.0                13.0         20.0                         5.0              25.0                             0.0          30.0           10.0                           750.0     31.0                      31.0             10.0                             4                17.0                             3.0       17.0       10.0                         0.0                          25.0                       15.0\n",
       "1    Breakfast           Egg White Delight                                  4.8             250.0       70.0                 8.0          12.0                         3.0              15.0                             0.0          25.0           8.0                            770.0     32.0                      30.0             10.0                             4                17.0                             3.0       18.0       6.0                          0.0                          25.0                       8.0\n",
       "2    Breakfast           Sausage McMuffin                                   3.9             370.0       200.0                23.0         35.0                         8.0              42.0                             0.0          45.0           15.0                           780.0     33.0                      29.0             10.0                             4                17.0                             2.0       14.0       8.0                          0.0                          25.0                       10.0\n",
       "3    Breakfast           Sausage McMuffin with Egg                          5.7             450.0       250.0                28.0         43.0                         10.0             52.0                             0.0          30.0           10.0                           860.0     36.0                      30.0             10.0                             4                17.0                             2.0       21.0       15.0                         0.0                          30.0                       15.0\n",
       "4    Breakfast           Sausage McMuffin with Egg Whites                   5.7             400.0       210.0                23.0         35.0                         8.0              42.0                             0.0          50.0           16.0                           880.0     37.0                      30.0             10.0                             4                17.0                             2.0       21.0       6.0                          0.0                          25.0                       10.0\n",
       "...  ...                 ...                                                ...             ...         ...                  ...          ...                          ...              ...                              ...          ...            ...                            ...       ...                       ...              ...                              ...              ...                              ...       ...        ...                          ...                          ...                        ...\n",
       "255  Smoothies & Shakes  McFlurry with Oreo Cookies (Small)                 10.1            510.0       150.0                17.0         26.0                         9.0              44.0                             0.5          45.0           14.0                           280.0     12.0                      80.0             27.0                             1                4.0                              64.0      12.0       15.0                         0.0                          40.0                       8.0\n",
       "256  Smoothies & Shakes  McFlurry with Oreo Cookies (Medium)                13.4            690.0       200.0                23.0         35.0                         12.0             58.0                             1.0          55.0           19.0                           380.0     16.0                      43.0             35.0                             1                5.0                              85.0      15.0       20.0                         0.0                          50.0                       10.0\n",
       "257  Smoothies & Shakes  McFlurry with Oreo Cookies (Snack)                 6.7             340.0       100.0                11.0         17.0                         6.0              29.0                             0.0          30.0           9.0                            190.0     8.0                       53.0             18.0                             1                2.0                              43.0      8.0        10.0                         0.0                          25.0                       6.0\n",
       "258  Smoothies & Shakes  McFlurry with Reese's Peanut Butter Cups (Medium)  14.2            810.0       290.0                32.0         50.0                         15.0             76.0                             1.0          60.0           20.0                           400.0     17.0                      43.0             14.0                             2                9.0                              103.0     21.0       20.0                         0.0                          60.0                       6.0\n",
       "259  Smoothies & Shakes  McFlurry with Reese's Peanut Butter Cups (Snack)   7.1             410.0       150.0                16.0         25.0                         8.0              38.0                             0.0          30.0           10.0                           200.0     8.0                       57.0             19.0                             1                5.0                              51.0      10.0       10.0                         0.0                          30.0                       4.0"
      ]
     },
     "execution_count": 3,
     "metadata": {},
     "output_type": "execute_result"
    }
   ],
   "source": [
    "neutrients_vx"
   ]
  },
  {
   "cell_type": "code",
   "execution_count": 4,
   "id": "4ff2a49a",
   "metadata": {},
   "outputs": [
    {
     "data": {
      "text/html": [
       "<style>.vaex-description pre {\n",
       "          max-width : 450px;\n",
       "          white-space : nowrap;\n",
       "          overflow : hidden;\n",
       "          text-overflow: ellipsis;\n",
       "        }\n",
       "\n",
       "        .vex-description pre:hover {\n",
       "          max-width : initial;\n",
       "          white-space: pre;\n",
       "        }</style>"
      ],
      "text/plain": [
       "<IPython.core.display.HTML object>"
      ]
     },
     "metadata": {},
     "output_type": "display_data"
    },
    {
     "data": {
      "text/html": [
       "<div><h2>file1.csv</h2> <b>rows</b>: 260</div><h2>Columns:</h2><table class='table-striped'><thead><tr><th>column</th><th>type</th><th>unit</th><th>description</th><th>expression</th></tr></thead><tr><td>Category</td><td>str</td><td></td><td ><pre></pre></td><td></td></tr><tr><td>Item</td><td>str</td><td></td><td ><pre></pre></td><td></td></tr><tr><td>Serving Size</td><td>float64</td><td></td><td ><pre></pre></td><td></td></tr><tr><td>Calories</td><td>float64</td><td></td><td ><pre></pre></td><td></td></tr><tr><td>Calories from Fat</td><td>float64</td><td></td><td ><pre></pre></td><td></td></tr><tr><td>Total Fat</td><td>float64</td><td></td><td ><pre></pre></td><td></td></tr><tr><td>Total Fat (% Daily Value)</td><td>float64</td><td></td><td ><pre></pre></td><td></td></tr><tr><td>Saturated Fat</td><td>float64</td><td></td><td ><pre></pre></td><td></td></tr><tr><td>Saturated Fat (% Daily Value)</td><td>float64</td><td></td><td ><pre></pre></td><td></td></tr><tr><td>Trans Fat</td><td>float64</td><td></td><td ><pre></pre></td><td></td></tr><tr><td>Cholesterol</td><td>float64</td><td></td><td ><pre></pre></td><td></td></tr><tr><td>Cholesterol (% Daily Value)</td><td>float64</td><td></td><td ><pre></pre></td><td></td></tr><tr><td>Sodium</td><td>float64</td><td></td><td ><pre></pre></td><td></td></tr><tr><td>Sodium (% Daily Value)</td><td>float64</td><td></td><td ><pre></pre></td><td></td></tr><tr><td>Carbohydrates</td><td>float64</td><td></td><td ><pre></pre></td><td></td></tr><tr><td>Carbohydrates (% Daily Value)</td><td>float64</td><td></td><td ><pre></pre></td><td></td></tr><tr><td>Dietary Fiber</td><td>int64</td><td></td><td ><pre></pre></td><td></td></tr><tr><td>Dietary Fiber (% Daily Value)</td><td>float64</td><td></td><td ><pre></pre></td><td></td></tr><tr><td>Sugars</td><td>float64</td><td></td><td ><pre></pre></td><td></td></tr><tr><td>Protein</td><td>float64</td><td></td><td ><pre></pre></td><td></td></tr><tr><td>Vitamin A (% Daily Value)</td><td>float64</td><td></td><td ><pre></pre></td><td></td></tr><tr><td>Vitamin C (% Daily Value)</td><td>float64</td><td></td><td ><pre></pre></td><td></td></tr><tr><td>Calcium (% Daily Value)</td><td>float64</td><td></td><td ><pre></pre></td><td></td></tr><tr><td>Iron (% Daily Value)</td><td>float64</td><td></td><td ><pre></pre></td><td></td></tr></table><h2>Data:</h2><table>\n",
       "<thead>\n",
       "<tr><th>#                              </th><th>Category          </th><th>Item                                             </th><th>Serving Size  </th><th>Calories  </th><th>Calories from Fat  </th><th>Total Fat  </th><th>Total Fat (% Daily Value)  </th><th>Saturated Fat  </th><th>Saturated Fat (% Daily Value)  </th><th>Trans Fat  </th><th>Cholesterol  </th><th>Cholesterol (% Daily Value)  </th><th>Sodium  </th><th>Sodium (% Daily Value)  </th><th>Carbohydrates  </th><th>Carbohydrates (% Daily Value)  </th><th>Dietary Fiber  </th><th>Dietary Fiber (% Daily Value)  </th><th>Sugars  </th><th>Protein  </th><th>Vitamin A (% Daily Value)  </th><th>Vitamin C (% Daily Value)  </th><th>Calcium (% Daily Value)  </th><th>Iron (% Daily Value)  </th></tr>\n",
       "</thead>\n",
       "<tbody>\n",
       "<tr><td><i style='opacity: 0.6'>0</i>  </td><td>Breakfast         </td><td>Egg McMuffin                                     </td><td>4.8           </td><td>300.0     </td><td>120.0              </td><td>13.0       </td><td>20.0                       </td><td>5.0            </td><td>25.0                           </td><td>0.0        </td><td>30.0         </td><td>10.0                         </td><td>750.0   </td><td>31.0                    </td><td>31.0           </td><td>10.0                           </td><td>4              </td><td>17.0                           </td><td>3.0     </td><td>17.0     </td><td>10.0                       </td><td>0.0                        </td><td>25.0                     </td><td>15.0                  </td></tr>\n",
       "<tr><td><i style='opacity: 0.6'>1</i>  </td><td>Breakfast         </td><td>Egg White Delight                                </td><td>4.8           </td><td>250.0     </td><td>70.0               </td><td>8.0        </td><td>12.0                       </td><td>3.0            </td><td>15.0                           </td><td>0.0        </td><td>25.0         </td><td>8.0                          </td><td>770.0   </td><td>32.0                    </td><td>30.0           </td><td>10.0                           </td><td>4              </td><td>17.0                           </td><td>3.0     </td><td>18.0     </td><td>6.0                        </td><td>0.0                        </td><td>25.0                     </td><td>8.0                   </td></tr>\n",
       "<tr><td><i style='opacity: 0.6'>2</i>  </td><td>Breakfast         </td><td>Sausage McMuffin                                 </td><td>3.9           </td><td>370.0     </td><td>200.0              </td><td>23.0       </td><td>35.0                       </td><td>8.0            </td><td>42.0                           </td><td>0.0        </td><td>45.0         </td><td>15.0                         </td><td>780.0   </td><td>33.0                    </td><td>29.0           </td><td>10.0                           </td><td>4              </td><td>17.0                           </td><td>2.0     </td><td>14.0     </td><td>8.0                        </td><td>0.0                        </td><td>25.0                     </td><td>10.0                  </td></tr>\n",
       "<tr><td><i style='opacity: 0.6'>3</i>  </td><td>Breakfast         </td><td>Sausage McMuffin with Egg                        </td><td>5.7           </td><td>450.0     </td><td>250.0              </td><td>28.0       </td><td>43.0                       </td><td>10.0           </td><td>52.0                           </td><td>0.0        </td><td>30.0         </td><td>10.0                         </td><td>860.0   </td><td>36.0                    </td><td>30.0           </td><td>10.0                           </td><td>4              </td><td>17.0                           </td><td>2.0     </td><td>21.0     </td><td>15.0                       </td><td>0.0                        </td><td>30.0                     </td><td>15.0                  </td></tr>\n",
       "<tr><td><i style='opacity: 0.6'>4</i>  </td><td>Breakfast         </td><td>Sausage McMuffin with Egg Whites                 </td><td>5.7           </td><td>400.0     </td><td>210.0              </td><td>23.0       </td><td>35.0                       </td><td>8.0            </td><td>42.0                           </td><td>0.0        </td><td>50.0         </td><td>16.0                         </td><td>880.0   </td><td>37.0                    </td><td>30.0           </td><td>10.0                           </td><td>4              </td><td>17.0                           </td><td>2.0     </td><td>21.0     </td><td>6.0                        </td><td>0.0                        </td><td>25.0                     </td><td>10.0                  </td></tr>\n",
       "<tr><td>...                            </td><td>...               </td><td>...                                              </td><td>...           </td><td>...       </td><td>...                </td><td>...        </td><td>...                        </td><td>...            </td><td>...                            </td><td>...        </td><td>...          </td><td>...                          </td><td>...     </td><td>...                     </td><td>...            </td><td>...                            </td><td>...            </td><td>...                            </td><td>...     </td><td>...      </td><td>...                        </td><td>...                        </td><td>...                      </td><td>...                   </td></tr>\n",
       "<tr><td><i style='opacity: 0.6'>255</i></td><td>Smoothies &amp; Shakes</td><td>McFlurry with Oreo Cookies (Small)               </td><td>10.1          </td><td>510.0     </td><td>150.0              </td><td>17.0       </td><td>26.0                       </td><td>9.0            </td><td>44.0                           </td><td>0.5        </td><td>45.0         </td><td>14.0                         </td><td>280.0   </td><td>12.0                    </td><td>80.0           </td><td>27.0                           </td><td>1              </td><td>4.0                            </td><td>64.0    </td><td>12.0     </td><td>15.0                       </td><td>0.0                        </td><td>40.0                     </td><td>8.0                   </td></tr>\n",
       "<tr><td><i style='opacity: 0.6'>256</i></td><td>Smoothies &amp; Shakes</td><td>McFlurry with Oreo Cookies (Medium)              </td><td>13.4          </td><td>690.0     </td><td>200.0              </td><td>23.0       </td><td>35.0                       </td><td>12.0           </td><td>58.0                           </td><td>1.0        </td><td>55.0         </td><td>19.0                         </td><td>380.0   </td><td>16.0                    </td><td>43.0           </td><td>35.0                           </td><td>1              </td><td>5.0                            </td><td>85.0    </td><td>15.0     </td><td>20.0                       </td><td>0.0                        </td><td>50.0                     </td><td>10.0                  </td></tr>\n",
       "<tr><td><i style='opacity: 0.6'>257</i></td><td>Smoothies &amp; Shakes</td><td>McFlurry with Oreo Cookies (Snack)               </td><td>6.7           </td><td>340.0     </td><td>100.0              </td><td>11.0       </td><td>17.0                       </td><td>6.0            </td><td>29.0                           </td><td>0.0        </td><td>30.0         </td><td>9.0                          </td><td>190.0   </td><td>8.0                     </td><td>53.0           </td><td>18.0                           </td><td>1              </td><td>2.0                            </td><td>43.0    </td><td>8.0      </td><td>10.0                       </td><td>0.0                        </td><td>25.0                     </td><td>6.0                   </td></tr>\n",
       "<tr><td><i style='opacity: 0.6'>258</i></td><td>Smoothies &amp; Shakes</td><td>McFlurry with Reese&#x27;s Peanut Butter Cups (Medium)</td><td>14.2          </td><td>810.0     </td><td>290.0              </td><td>32.0       </td><td>50.0                       </td><td>15.0           </td><td>76.0                           </td><td>1.0        </td><td>60.0         </td><td>20.0                         </td><td>400.0   </td><td>17.0                    </td><td>43.0           </td><td>14.0                           </td><td>2              </td><td>9.0                            </td><td>103.0   </td><td>21.0     </td><td>20.0                       </td><td>0.0                        </td><td>60.0                     </td><td>6.0                   </td></tr>\n",
       "<tr><td><i style='opacity: 0.6'>259</i></td><td>Smoothies &amp; Shakes</td><td>McFlurry with Reese&#x27;s Peanut Butter Cups (Snack) </td><td>7.1           </td><td>410.0     </td><td>150.0              </td><td>16.0       </td><td>25.0                       </td><td>8.0            </td><td>38.0                           </td><td>0.0        </td><td>30.0         </td><td>10.0                         </td><td>200.0   </td><td>8.0                     </td><td>57.0           </td><td>19.0                           </td><td>1              </td><td>5.0                            </td><td>51.0    </td><td>10.0     </td><td>10.0                       </td><td>0.0                        </td><td>30.0                     </td><td>4.0                   </td></tr>\n",
       "</tbody>\n",
       "</table>"
      ],
      "text/plain": [
       "<IPython.core.display.HTML object>"
      ]
     },
     "metadata": {},
     "output_type": "display_data"
    },
    {
     "name": "stdout",
     "output_type": "stream",
     "text": [
      "Wall time: 39.9 ms\n"
     ]
    }
   ],
   "source": [
    "%%time\n",
    "neutrients_vx.info()"
   ]
  },
  {
   "cell_type": "markdown",
   "id": "4f803804",
   "metadata": {},
   "source": [
    "- info() in vaex displays the information regarding columns as well as the dataset."
   ]
  },
  {
   "cell_type": "code",
   "execution_count": 5,
   "id": "32e69db9",
   "metadata": {},
   "outputs": [
    {
     "data": {
      "text/plain": [
       "['Category',\n",
       " 'Item',\n",
       " 'Serving Size',\n",
       " 'Calories',\n",
       " 'Calories from Fat',\n",
       " 'Total Fat',\n",
       " 'Total Fat (% Daily Value)',\n",
       " 'Saturated Fat',\n",
       " 'Saturated Fat (% Daily Value)',\n",
       " 'Trans Fat',\n",
       " 'Cholesterol',\n",
       " 'Cholesterol (% Daily Value)',\n",
       " 'Sodium',\n",
       " 'Sodium (% Daily Value)',\n",
       " 'Carbohydrates',\n",
       " 'Carbohydrates (% Daily Value)',\n",
       " 'Dietary Fiber',\n",
       " 'Dietary Fiber (% Daily Value)',\n",
       " 'Sugars',\n",
       " 'Protein',\n",
       " 'Vitamin A (% Daily Value)',\n",
       " 'Vitamin C (% Daily Value)',\n",
       " 'Calcium (% Daily Value)',\n",
       " 'Iron (% Daily Value)']"
      ]
     },
     "execution_count": 5,
     "metadata": {},
     "output_type": "execute_result"
    }
   ],
   "source": [
    "neutrients_vx.column_names"
   ]
  },
  {
   "cell_type": "markdown",
   "id": "0d77d3f6",
   "metadata": {},
   "source": [
    "### Pandas Profiling"
   ]
  },
  {
   "cell_type": "code",
   "execution_count": 6,
   "id": "40843ba1",
   "metadata": {},
   "outputs": [],
   "source": [
    "import pandas_profiling\n",
    "from pandas_profiling import ProfileReport"
   ]
  },
  {
   "cell_type": "code",
   "execution_count": 7,
   "id": "e794af5d",
   "metadata": {},
   "outputs": [],
   "source": [
    "data_pd = pd.read_csv(\"file1.csv\")"
   ]
  },
  {
   "cell_type": "code",
   "execution_count": 8,
   "id": "c305f8d1",
   "metadata": {},
   "outputs": [
    {
     "name": "stdout",
     "output_type": "stream",
     "text": [
      "<class 'pandas.core.frame.DataFrame'>\n",
      "RangeIndex: 260 entries, 0 to 259\n",
      "Data columns (total 24 columns):\n",
      " #   Column                         Non-Null Count  Dtype  \n",
      "---  ------                         --------------  -----  \n",
      " 0   Category                       260 non-null    object \n",
      " 1   Item                           260 non-null    object \n",
      " 2   Serving Size                   260 non-null    float64\n",
      " 3   Calories                       260 non-null    float64\n",
      " 4   Calories from Fat              260 non-null    float64\n",
      " 5   Total Fat                      260 non-null    float64\n",
      " 6   Total Fat (% Daily Value)      260 non-null    float64\n",
      " 7   Saturated Fat                  260 non-null    float64\n",
      " 8   Saturated Fat (% Daily Value)  260 non-null    float64\n",
      " 9   Trans Fat                      260 non-null    float64\n",
      " 10  Cholesterol                    260 non-null    float64\n",
      " 11  Cholesterol (% Daily Value)    260 non-null    float64\n",
      " 12  Sodium                         260 non-null    float64\n",
      " 13  Sodium (% Daily Value)         260 non-null    float64\n",
      " 14  Carbohydrates                  260 non-null    float64\n",
      " 15  Carbohydrates (% Daily Value)  260 non-null    float64\n",
      " 16  Dietary Fiber                  260 non-null    int64  \n",
      " 17  Dietary Fiber (% Daily Value)  260 non-null    float64\n",
      " 18  Sugars                         260 non-null    float64\n",
      " 19  Protein                        260 non-null    float64\n",
      " 20  Vitamin A (% Daily Value)      260 non-null    float64\n",
      " 21  Vitamin C (% Daily Value)      260 non-null    float64\n",
      " 22  Calcium (% Daily Value)        260 non-null    float64\n",
      " 23  Iron (% Daily Value)           260 non-null    float64\n",
      "dtypes: float64(21), int64(1), object(2)\n",
      "memory usage: 48.9+ KB\n"
     ]
    }
   ],
   "source": [
    "data_pd.info()"
   ]
  },
  {
   "cell_type": "code",
   "execution_count": 9,
   "id": "bc394a94",
   "metadata": {},
   "outputs": [
    {
     "name": "stdout",
     "output_type": "stream",
     "text": [
      "Wall time: 0 ns\n",
      "<class 'pandas.core.frame.DataFrame'>\n",
      "RangeIndex: 260 entries, 0 to 259\n",
      "Data columns (total 24 columns):\n",
      " #   Column                         Non-Null Count  Dtype  \n",
      "---  ------                         --------------  -----  \n",
      " 0   Category                       260 non-null    object \n",
      " 1   Item                           260 non-null    object \n",
      " 2   Serving Size                   260 non-null    float64\n",
      " 3   Calories                       260 non-null    float64\n",
      " 4   Calories from Fat              260 non-null    float64\n",
      " 5   Total Fat                      260 non-null    float64\n",
      " 6   Total Fat (% Daily Value)      260 non-null    float64\n",
      " 7   Saturated Fat                  260 non-null    float64\n",
      " 8   Saturated Fat (% Daily Value)  260 non-null    float64\n",
      " 9   Trans Fat                      260 non-null    float64\n",
      " 10  Cholesterol                    260 non-null    float64\n",
      " 11  Cholesterol (% Daily Value)    260 non-null    float64\n",
      " 12  Sodium                         260 non-null    float64\n",
      " 13  Sodium (% Daily Value)         260 non-null    float64\n",
      " 14  Carbohydrates                  260 non-null    float64\n",
      " 15  Carbohydrates (% Daily Value)  260 non-null    float64\n",
      " 16  Dietary Fiber                  260 non-null    int64  \n",
      " 17  Dietary Fiber (% Daily Value)  260 non-null    float64\n",
      " 18  Sugars                         260 non-null    float64\n",
      " 19  Protein                        260 non-null    float64\n",
      " 20  Vitamin A (% Daily Value)      260 non-null    float64\n",
      " 21  Vitamin C (% Daily Value)      260 non-null    float64\n",
      " 22  Calcium (% Daily Value)        260 non-null    float64\n",
      " 23  Iron (% Daily Value)           260 non-null    float64\n",
      "dtypes: float64(21), int64(1), object(2)\n",
      "memory usage: 48.9+ KB\n"
     ]
    }
   ],
   "source": [
    "%time\n",
    "data_pd.info()"
   ]
  },
  {
   "cell_type": "code",
   "execution_count": 10,
   "id": "6c2f82f6",
   "metadata": {},
   "outputs": [],
   "source": [
    "import pandas_profiling as prof\n",
    "profile_report = prof.ProfileReport(data_pd)"
   ]
  },
  {
   "cell_type": "code",
   "execution_count": 11,
   "id": "1f437262",
   "metadata": {},
   "outputs": [
    {
     "data": {
      "application/vnd.jupyter.widget-view+json": {
       "model_id": "0fc6f6b80c904a9695ffe3af181d5c2c",
       "version_major": 2,
       "version_minor": 0
      },
      "text/plain": [
       "Summarize dataset:   0%|          | 0/37 [00:00<?, ?it/s]"
      ]
     },
     "metadata": {},
     "output_type": "display_data"
    },
    {
     "data": {
      "application/vnd.jupyter.widget-view+json": {
       "model_id": "7930c5bc0f71441aafff4e7881e736ce",
       "version_major": 2,
       "version_minor": 0
      },
      "text/plain": [
       "Generate report structure:   0%|          | 0/1 [00:00<?, ?it/s]"
      ]
     },
     "metadata": {},
     "output_type": "display_data"
    },
    {
     "data": {
      "application/vnd.jupyter.widget-view+json": {
       "model_id": "1eaa62d3e75f4878a9ce18878c3db302",
       "version_major": 2,
       "version_minor": 0
      },
      "text/plain": [
       "Render HTML:   0%|          | 0/1 [00:00<?, ?it/s]"
      ]
     },
     "metadata": {},
     "output_type": "display_data"
    },
    {
     "name": "stderr",
     "output_type": "stream",
     "text": [
      "C:\\Users\\manis\\anaconda3\\lib\\site-packages\\pandas_profiling\\profile_report.py:266: UserWarning: Extension  not supported. For now we assume .html was intended. To remove this warning, please use .html or .json.\n",
      "  warnings.warn(\n"
     ]
    },
    {
     "data": {
      "application/vnd.jupyter.widget-view+json": {
       "model_id": "2a48704491664804910c56368b116870",
       "version_major": 2,
       "version_minor": 0
      },
      "text/plain": [
       "Export report to file:   0%|          | 0/1 [00:00<?, ?it/s]"
      ]
     },
     "metadata": {},
     "output_type": "display_data"
    }
   ],
   "source": [
    "profile_report.to_file('profilereport')"
   ]
  },
  {
   "cell_type": "markdown",
   "id": "3085accc",
   "metadata": {},
   "source": [
    "# In and Out of a Dataframe using vaex and Pandas"
   ]
  },
  {
   "cell_type": "markdown",
   "id": "075ffa4c",
   "metadata": {},
   "source": [
    "### Converting hdf5 file to a dataframe"
   ]
  },
  {
   "cell_type": "code",
   "execution_count": 12,
   "id": "1f35114b",
   "metadata": {},
   "outputs": [],
   "source": [
    "data_pd1 = neutrients_vx.to_pandas_df()"
   ]
  },
  {
   "cell_type": "markdown",
   "id": "cb7aea67",
   "metadata": {},
   "source": [
    "- to_pandas_df() converts hdf5 file to dataframe"
   ]
  },
  {
   "cell_type": "markdown",
   "id": "0cfb0ffa",
   "metadata": {},
   "source": [
    "### Creating profile report for a dataframe(after hdf5 file)"
   ]
  },
  {
   "cell_type": "code",
   "execution_count": 13,
   "id": "fe8e096b",
   "metadata": {},
   "outputs": [
    {
     "data": {
      "application/vnd.jupyter.widget-view+json": {
       "model_id": "36c4b21c43fa406f8223b319d572671c",
       "version_major": 2,
       "version_minor": 0
      },
      "text/plain": [
       "Summarize dataset:   0%|          | 0/37 [00:00<?, ?it/s]"
      ]
     },
     "metadata": {},
     "output_type": "display_data"
    },
    {
     "data": {
      "application/vnd.jupyter.widget-view+json": {
       "model_id": "7457d3cb6c2844e397d8818175ce2199",
       "version_major": 2,
       "version_minor": 0
      },
      "text/plain": [
       "Generate report structure:   0%|          | 0/1 [00:00<?, ?it/s]"
      ]
     },
     "metadata": {},
     "output_type": "display_data"
    },
    {
     "data": {
      "application/vnd.jupyter.widget-view+json": {
       "model_id": "90d3e2204dd34a8996fedf64f027ab71",
       "version_major": 2,
       "version_minor": 0
      },
      "text/plain": [
       "Render HTML:   0%|          | 0/1 [00:00<?, ?it/s]"
      ]
     },
     "metadata": {},
     "output_type": "display_data"
    },
    {
     "data": {
      "application/vnd.jupyter.widget-view+json": {
       "model_id": "8b7206ff39624cc19281c5f25f2cf9ff",
       "version_major": 2,
       "version_minor": 0
      },
      "text/plain": [
       "Export report to file:   0%|          | 0/1 [00:00<?, ?it/s]"
      ]
     },
     "metadata": {},
     "output_type": "display_data"
    }
   ],
   "source": [
    "import matplotlib.pyplot as plt\n",
    "%matplotlib inline\n",
    "profile = ProfileReport(data_pd1,title='Pandas Profiling Report', explorative=True)\n",
    "profile.to_file(output_file='insights_explorationhdf5.html')"
   ]
  },
  {
   "cell_type": "markdown",
   "id": "525cb15b",
   "metadata": {},
   "source": [
    "- We have created a profile report of hdf5 file.\n",
    "    \n",
    "    In this, it gives the clear representation \n",
    "    \n",
    "            1) plots of variables\n",
    "            \n",
    "            2) Interactions between data\n",
    "            \n",
    "            3) Correlations, cardinality, Unique and Zero values of columns(i.e., variables)\n",
    "            \n",
    "            4) Missing values, Distinct values, infinte, mean values and negative values etc."
   ]
  },
  {
   "cell_type": "markdown",
   "id": "a3b8b61f",
   "metadata": {},
   "source": [
    "### Visualizaton using Sweetviz"
   ]
  },
  {
   "cell_type": "code",
   "execution_count": 14,
   "id": "93f7cbdc",
   "metadata": {},
   "outputs": [
    {
     "data": {
      "application/vnd.jupyter.widget-view+json": {
       "model_id": "ed25f15a15c94b69a4b45d5444ce5d35",
       "version_major": 2,
       "version_minor": 0
      },
      "text/plain": [
       "                                             |                                             | [  0%]   00:00 ->…"
      ]
     },
     "metadata": {},
     "output_type": "display_data"
    },
    {
     "name": "stdout",
     "output_type": "stream",
     "text": [
      "Report vx_sweetviz.html was generated.\n"
     ]
    }
   ],
   "source": [
    "import sweetviz as sv\n",
    "report = sv.analyze(data_pd1)\n",
    "report.show_html('vx_sweetviz.html', open_browser=False)"
   ]
  },
  {
   "cell_type": "markdown",
   "id": "b0643a75",
   "metadata": {},
   "source": [
    "- analyze() provides the visualization of a dataset and exported to html file.\n",
    "\n",
    "- It provides \n",
    "\n",
    "    1) Bar graphs for variables\n",
    "    \n",
    "    2) Most frequent values, Largest values and amallest values\n",
    "    \n",
    "    3) categorical and numerical Associations\n",
    "    \n",
    "    4) Provides the values of Minimum, maximum, IQR values, kurtosis, skewness and some aggregate function values.\n",
    "      \n",
    "      etc"
   ]
  },
  {
   "cell_type": "code",
   "execution_count": null,
   "id": "484ad272",
   "metadata": {},
   "outputs": [],
   "source": []
  },
  {
   "cell_type": "code",
   "execution_count": null,
   "id": "010cd1bb",
   "metadata": {},
   "outputs": [],
   "source": []
  }
 ],
 "metadata": {
  "kernelspec": {
   "display_name": "Python 3",
   "language": "python",
   "name": "python3"
  },
  "language_info": {
   "codemirror_mode": {
    "name": "ipython",
    "version": 3
   },
   "file_extension": ".py",
   "mimetype": "text/x-python",
   "name": "python",
   "nbconvert_exporter": "python",
   "pygments_lexer": "ipython3",
   "version": "3.8.10"
  }
 },
 "nbformat": 4,
 "nbformat_minor": 5
}
